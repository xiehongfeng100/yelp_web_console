{
 "cells": [
  {
   "cell_type": "markdown",
   "metadata": {},
   "source": [
    "# Append Mean Sentiment to Businesses"
   ]
  },
  {
   "cell_type": "code",
   "execution_count": 1,
   "metadata": {},
   "outputs": [],
   "source": [
    "import pandas as pd"
   ]
  },
  {
   "cell_type": "code",
   "execution_count": 2,
   "metadata": {},
   "outputs": [],
   "source": [
    "# Read previous dataset preprocessed, see https://github.com/xiehongfeng100/yelper_dpps_and_eda/tree/master/dpps/las_vegas \n",
    "yelp_lv_bizes = pd.read_csv('las_vegas_business_preprocessed_with_db_id.csv')\n",
    "yelp_lv_rvs = pd.read_csv('las_vegas_review_with_db_id.csv')\n",
    "yelp_lv_sentiment = pd.read_csv('las_vegas_review_text_sentiment_with_db_id.csv')"
   ]
  },
  {
   "cell_type": "code",
   "execution_count": 3,
   "metadata": {},
   "outputs": [],
   "source": [
    "# Business reviews maps\n",
    "biz_rv_maps = [{row.db_id: yelp_lv_rvs[yelp_lv_rvs.business_db_id==row.db_id].db_id} for _, row in yelp_lv_bizes.iterrows()]"
   ]
  },
  {
   "cell_type": "code",
   "execution_count": 4,
   "metadata": {},
   "outputs": [],
   "source": [
    "# Business mean (cnn) sentiment maps\n",
    "biz_sent_maps = list()\n",
    "for biz_rvs in biz_rv_maps:\n",
    "    biz_db_id = biz_rvs.keys()[0]\n",
    "    rvs = biz_rvs.values()[0]\n",
    "    mean_sent = yelp_lv_sentiment[yelp_lv_sentiment.review_db_id.isin(rvs)].cnn_sentiment.mean()\n",
    "    biz_sent_maps.append([biz_db_id, mean_sent])"
   ]
  },
  {
   "cell_type": "code",
   "execution_count": 5,
   "metadata": {},
   "outputs": [
    {
     "data": {
      "text/plain": [
       "26777"
      ]
     },
     "execution_count": 5,
     "metadata": {},
     "output_type": "execute_result"
    }
   ],
   "source": [
    "len(biz_sent_maps)"
   ]
  },
  {
   "cell_type": "code",
   "execution_count": 6,
   "metadata": {},
   "outputs": [
    {
     "data": {
      "text/plain": [
       "[[4, 0.7299031828223214],\n",
       " [11, 0.6340573860000001],\n",
       " [12, 0.6375108796384211],\n",
       " [29, 0.5705963248706666],\n",
       " [33, 0.8443184092857141]]"
      ]
     },
     "execution_count": 6,
     "metadata": {},
     "output_type": "execute_result"
    }
   ],
   "source": [
    "biz_sent_maps[:5]"
   ]
  },
  {
   "cell_type": "code",
   "execution_count": 7,
   "metadata": {},
   "outputs": [],
   "source": [
    "# Make the maps a dataframe for easy join with business dataframe\n",
    "biz_sent_df = pd.DataFrame(biz_sent_maps, columns=['db_id', 'sentiment'])"
   ]
  },
  {
   "cell_type": "code",
   "execution_count": 8,
   "metadata": {},
   "outputs": [
    {
     "data": {
      "text/html": [
       "<div>\n",
       "<style scoped>\n",
       "    .dataframe tbody tr th:only-of-type {\n",
       "        vertical-align: middle;\n",
       "    }\n",
       "\n",
       "    .dataframe tbody tr th {\n",
       "        vertical-align: top;\n",
       "    }\n",
       "\n",
       "    .dataframe thead th {\n",
       "        text-align: right;\n",
       "    }\n",
       "</style>\n",
       "<table border=\"1\" class=\"dataframe\">\n",
       "  <thead>\n",
       "    <tr style=\"text-align: right;\">\n",
       "      <th></th>\n",
       "      <th>db_id</th>\n",
       "      <th>sentiment</th>\n",
       "    </tr>\n",
       "  </thead>\n",
       "  <tbody>\n",
       "    <tr>\n",
       "      <th>0</th>\n",
       "      <td>4</td>\n",
       "      <td>0.729903</td>\n",
       "    </tr>\n",
       "    <tr>\n",
       "      <th>1</th>\n",
       "      <td>11</td>\n",
       "      <td>0.634057</td>\n",
       "    </tr>\n",
       "    <tr>\n",
       "      <th>2</th>\n",
       "      <td>12</td>\n",
       "      <td>0.637511</td>\n",
       "    </tr>\n",
       "    <tr>\n",
       "      <th>3</th>\n",
       "      <td>29</td>\n",
       "      <td>0.570596</td>\n",
       "    </tr>\n",
       "    <tr>\n",
       "      <th>4</th>\n",
       "      <td>33</td>\n",
       "      <td>0.844318</td>\n",
       "    </tr>\n",
       "  </tbody>\n",
       "</table>\n",
       "</div>"
      ],
      "text/plain": [
       "   db_id  sentiment\n",
       "0      4   0.729903\n",
       "1     11   0.634057\n",
       "2     12   0.637511\n",
       "3     29   0.570596\n",
       "4     33   0.844318"
      ]
     },
     "execution_count": 8,
     "metadata": {},
     "output_type": "execute_result"
    }
   ],
   "source": [
    "biz_sent_df[:5]"
   ]
  },
  {
   "cell_type": "code",
   "execution_count": 9,
   "metadata": {},
   "outputs": [],
   "source": [
    "# Join the maps to business dataframe\n",
    "yelp_lv_bizes = yelp_lv_bizes.join(biz_sent_df.set_index('db_id'), on='db_id')"
   ]
  },
  {
   "cell_type": "code",
   "execution_count": 10,
   "metadata": {},
   "outputs": [
    {
     "data": {
      "text/html": [
       "<div>\n",
       "<style scoped>\n",
       "    .dataframe tbody tr th:only-of-type {\n",
       "        vertical-align: middle;\n",
       "    }\n",
       "\n",
       "    .dataframe tbody tr th {\n",
       "        vertical-align: top;\n",
       "    }\n",
       "\n",
       "    .dataframe thead th {\n",
       "        text-align: right;\n",
       "    }\n",
       "</style>\n",
       "<table border=\"1\" class=\"dataframe\">\n",
       "  <thead>\n",
       "    <tr style=\"text-align: right;\">\n",
       "      <th></th>\n",
       "      <th>db_id</th>\n",
       "      <th>business_id</th>\n",
       "      <th>latitude</th>\n",
       "      <th>longitude</th>\n",
       "      <th>popularity</th>\n",
       "      <th>sentiment</th>\n",
       "    </tr>\n",
       "  </thead>\n",
       "  <tbody>\n",
       "    <tr>\n",
       "      <th>0</th>\n",
       "      <td>4</td>\n",
       "      <td>--9e1ONYQuAa-CB_Rrw7Tw</td>\n",
       "      <td>36.1232</td>\n",
       "      <td>-115.169</td>\n",
       "      <td>0.096371</td>\n",
       "      <td>0.729903</td>\n",
       "    </tr>\n",
       "    <tr>\n",
       "      <th>1</th>\n",
       "      <td>11</td>\n",
       "      <td>--DdmeR16TRb3LsjG0ejrQ</td>\n",
       "      <td>36.1143</td>\n",
       "      <td>-115.171</td>\n",
       "      <td>0.000297</td>\n",
       "      <td>0.634057</td>\n",
       "    </tr>\n",
       "    <tr>\n",
       "      <th>2</th>\n",
       "      <td>12</td>\n",
       "      <td>--e8PjCNhEz32pprnPhCwQ</td>\n",
       "      <td>36.1589</td>\n",
       "      <td>-115.133</td>\n",
       "      <td>0.000895</td>\n",
       "      <td>0.637511</td>\n",
       "    </tr>\n",
       "    <tr>\n",
       "      <th>3</th>\n",
       "      <td>29</td>\n",
       "      <td>--o5BoU7qYMALeVDK6mwVg</td>\n",
       "      <td>36.1016</td>\n",
       "      <td>-115.132</td>\n",
       "      <td>0.000167</td>\n",
       "      <td>0.570596</td>\n",
       "    </tr>\n",
       "    <tr>\n",
       "      <th>4</th>\n",
       "      <td>33</td>\n",
       "      <td>--q7kSBRb0vWC8lSkXFByA</td>\n",
       "      <td>36.0167</td>\n",
       "      <td>-115.173</td>\n",
       "      <td>0.000885</td>\n",
       "      <td>0.844318</td>\n",
       "    </tr>\n",
       "  </tbody>\n",
       "</table>\n",
       "</div>"
      ],
      "text/plain": [
       "   db_id             business_id  latitude  longitude  popularity  sentiment\n",
       "0      4  --9e1ONYQuAa-CB_Rrw7Tw   36.1232   -115.169    0.096371   0.729903\n",
       "1     11  --DdmeR16TRb3LsjG0ejrQ   36.1143   -115.171    0.000297   0.634057\n",
       "2     12  --e8PjCNhEz32pprnPhCwQ   36.1589   -115.133    0.000895   0.637511\n",
       "3     29  --o5BoU7qYMALeVDK6mwVg   36.1016   -115.132    0.000167   0.570596\n",
       "4     33  --q7kSBRb0vWC8lSkXFByA   36.0167   -115.173    0.000885   0.844318"
      ]
     },
     "execution_count": 10,
     "metadata": {},
     "output_type": "execute_result"
    }
   ],
   "source": [
    "yelp_lv_bizes[['db_id', 'business_id', 'latitude', 'longitude', 'popularity', 'sentiment']][:5]"
   ]
  },
  {
   "cell_type": "code",
   "execution_count": 11,
   "metadata": {},
   "outputs": [],
   "source": [
    "# Save for future research\n",
    "yelp_lv_bizes[['db_id', 'business_id', 'latitude', 'longitude', 'popularity', 'sentiment']].to_csv('las_vegas_businesses.csv', index=False)"
   ]
  },
  {
   "cell_type": "code",
   "execution_count": null,
   "metadata": {},
   "outputs": [],
   "source": []
  }
 ],
 "metadata": {
  "kernelspec": {
   "display_name": "Python 2",
   "language": "python",
   "name": "python2"
  },
  "language_info": {
   "codemirror_mode": {
    "name": "ipython",
    "version": 2
   },
   "file_extension": ".py",
   "mimetype": "text/x-python",
   "name": "python",
   "nbconvert_exporter": "python",
   "pygments_lexer": "ipython2",
   "version": "2.7.14"
  }
 },
 "nbformat": 4,
 "nbformat_minor": 2
}
